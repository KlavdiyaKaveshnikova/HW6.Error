{
 "cells": [
  {
   "cell_type": "markdown",
   "metadata": {},
   "source": [
    "**Задание 1**\n",
    "Печатные газеты использовали свой формат дат для каждого выпуска. Для каждой газеты из списка напишите формат указанной даты для перевода в объект datetime:\n",
    "The Moscow Times - Wednesday, October 2, 2002\n",
    "The Guardian - Friday, 11.10.13\n",
    "Daily News - Thursday, 18 August 1977"
   ]
  },
  {
   "cell_type": "code",
   "execution_count": null,
   "metadata": {},
   "outputs": [],
   "source": [
    "magazine = input('Введите наименование газеты: ')\n",
    "date = input('Введите дату: ')\n",
    "\n",
    "from datetime import datetime\n",
    "\n",
    "if magazine  == 'The Moscow Times':\n",
    "    date_datetime = datetime.strptime(date, '%A, %B %d, %Y')    \n",
    "elif magazine  == 'The Guardian':\n",
    "    date_datetime = datetime.strptime(date, '%A, %d.%m.%y') \n",
    "elif magazine  == 'Daily News':    \n",
    "    date_datetime = datetime.strptime(date, '%A, %d %B %Y')\n",
    "    \n",
    "print(date_datetime)"
   ]
  },
  {
   "cell_type": "markdown",
   "metadata": {},
   "source": [
    "**Задание 2**\n",
    "Дан поток дат в формате YYYY-MM-DD, в которых встречаются некорректные значения:\n",
    "stream = ['2018-04-02', '2018-02-29', '2018-19-02']\n",
    "\n",
    "Напишите функцию, которая проверяет эти даты на корректность. Т. е. для каждой даты возвращает True (дата корректна) или False (некорректная дата). "
   ]
  },
  {
   "cell_type": "code",
   "execution_count": 13,
   "metadata": {},
   "outputs": [
    {
     "name": "stdout",
     "output_type": "stream",
     "text": [
      "2018-04-02 True\n",
      "2018-22-28 False\n",
      "2018-11-02 True\n"
     ]
    }
   ],
   "source": [
    "from datetime import datetime\n",
    "stream = ['2018-04-02', '2018-22-28', '2018-11-02']\n",
    "\n",
    "def check_date(stream, element):\n",
    "    try:\n",
    "        element = datetime.strptime(element, '%Y-%m-%d')\n",
    "        return True\n",
    "    except:\n",
    "        return False\n",
    "\n",
    "for element in stream:\n",
    "    print(element, check_date(stream, element))        "
   ]
  },
  {
   "cell_type": "markdown",
   "metadata": {},
   "source": [
    "**Задание 3**\n",
    "Напишите функцию date_range, которая возвращает список дат за период от start_date до end_date. Даты должны вводиться в формате YYYY-MM-DD. В случае неверного формата или при start_date > end_date должен возвращаться пустой список."
   ]
  },
  {
   "cell_type": "code",
   "execution_count": null,
   "metadata": {},
   "outputs": [],
   "source": [
    "from datetime import timedelta\n",
    "\n",
    "start_date = input('Введите начало периода: ')\n",
    "end_date = input('Введите конец периода: ')\n",
    "date_list = []\n",
    "\n",
    "try:\n",
    "    start_date_datetime = datetime.strptime(start_date, '%Y-%m-%d')\n",
    "    end_date_datetime = datetime.strptime(end_date, '%Y-%m-%d')\n",
    "    while start_date_datetime <= end_date_datetime:\n",
    "        date_list.append(start_date_datetime.strftime('%Y-%m-%d'))\n",
    "        start_date_datetime = start_date_datetime + timedelta(days=1)\n",
    "\n",
    "except:\n",
    "    date_list.append('')\n",
    "    \n",
    "print(date_list)    \n"
   ]
  },
  {
   "cell_type": "markdown",
   "metadata": {},
   "source": [
    "**Задание 4 (бонусное)**\n",
    "Ваш коллега прислал код функции:\n",
    "\n",
    "DEFAULT_USER_COUNT = 3\n",
    "\n",
    "def delete_and_return_last_user(region, default_list=['A100', 'A101', 'A102']):\n",
    "    \"\"\"\n",
    "    Удаляет из списка default_list последнего пользователя \n",
    "    и возвращает ID нового последнего пользователя.\n",
    "    \"\"\"\n",
    "    element_to_delete = default_list[-1]\n",
    "    default_list.remove(element_to_delete)\n",
    "    \n",
    "    return default_list[DEFAULT_USER_COUNT-2]\n",
    "\n",
    "При однократном вызове этой функции все работает корректно:\n",
    "delete_and_return_last_user(1)\n",
    "'A101'\n",
    "\n",
    "Однако, при повторном вызове получается ошибка IndexError: list index out of range.\n",
    "\n",
    "Задание:\n",
    "1. Что значит ошибка list index out of range?\n",
    "2. Почему при первом запуске функция работает корректно, а при втором - нет?"
   ]
  },
  {
   "cell_type": "code",
   "execution_count": null,
   "metadata": {},
   "outputs": [],
   "source": [
    "def delete_and_return_last_user(region, default_list=['A100', 'A101', 'A102']):\n",
    "    \"\"\" Удаляет из списка default_list последнего пользователя и возвращает ID нового последнего пользователя. \"\"\" \n",
    "    element_to_delete = default_list[-1] \n",
    "    default_list.remove(element_to_delete) \n",
    "    return default_list[DEFAULT_USER_COUNT-2]\n",
    "\n",
    "delete_and_return_last_user(default_list[DEFAULT_USER_COUNT-2])"
   ]
  },
  {
   "cell_type": "markdown",
   "metadata": {},
   "source": [
    "**`list index out of range` - означает, что для операции недостаточно элементов в списке. При первом вызове мы удаляем элемент с индексом 2, при втором вызове снова же хотим удалить элемент с тем же индексом, а список заканчивается элементом с индексом 1.**"
   ]
  },
  {
   "cell_type": "markdown",
   "metadata": {},
   "source": [
    "# Задача про интервалы\n",
    "Имеется список отсортированных по возрастанию целых чисел data. А также целое число n, которое лежит между минимальным и максимальным значениями из списка data. Вам необходимо определить минимальное ближайшее число к n из списка data.\n",
    "\n",
    "Пример:\n",
    "```python\n",
    "data = [1, 7, 17, 23, 27, 35, 65]\n",
    "n = 20\n",
    "```\n",
    "\n",
    "Ответ: 17\n",
    "\n",
    "Подобные алгоритмы используются для классификации объекта по значению одной метрики. Например, это может пригодиться для классификации учащегося по его возрасту:\n",
    "```python\n",
    "ages = {\n",
    "    1: 'дети',\n",
    "    7: 'школьники',\n",
    "    17: 'студенты',\n",
    "    23: 'аспиранты',\n",
    "    27: 'молодые ученые',\n",
    "    35: 'преподаватели',\n",
    "    65: 'пенсионеры',\n",
    "}\n",
    "```\n",
    "\n",
    "Итого напишите функцию, которая по списку data и числу n возвращает минимальное ближайшее к n число. Список может быть любым, поэтому не рассчитывайте на написание цепочки условий через if.\n",
    "\n",
    "Бонусные варианты:\n",
    "1. Рассмотрите ситуацию, в которой при фиксированном списке data вам необходимо классифицировать большое количество пользователей с разными значениями n. Например, вам необходимо классифицировать базу из 100 миллионов человек по возрастам по словарю ages из примера выше. Можно ли в таком случае ускорить проход по такому числу пользователей?\n",
    "\n",
    "2. Если вы решали основное задание перебором элементов списка data и сравнением с n, то сложность такого алгоритма O(N). Т. е. при увеличении числа элементов списка data в N раз время работы алгоритма тоже вырастет в N раз. Попробуйте ускорить этот алгоритм. Например, с помощью аналога бинарного поиска."
   ]
  },
  {
   "cell_type": "code",
   "execution_count": null,
   "metadata": {},
   "outputs": [],
   "source": [
    "data = [1, 7, 17, 23, 27, 35, 65]\n",
    "n = 20\n",
    "num_div = 0\n",
    "div_1 = data[len(data)-1] #так как список по возрастанию, то последний элемент списка - максимальный по значению\n",
    "for num in data:\n",
    "    div_2 = n - num\n",
    "    if 0 < div_2 < div_1 :\n",
    "        div_1 = div_2\n",
    "        num_div = num\n",
    "print(num_div)"
   ]
  },
  {
   "cell_type": "code",
   "execution_count": null,
   "metadata": {},
   "outputs": [],
   "source": [
    "data = [1, 7, 17, 23, 27, 35, 65]\n",
    "n = 10\n",
    "low = 0\n",
    "num = 0\n",
    "high = len(data)-1   \n",
    "while low <= high:\n",
    "    mid = (low + high) // 2                        \n",
    "    guess = data[mid]                             \n",
    "    if guess > n:\n",
    "        high = mid - 1          \n",
    "    else:\n",
    "        low = mid + 1\n",
    "        num = guess\n",
    "print(num)"
   ]
  }
 ],
 "metadata": {
  "kernelspec": {
   "display_name": "Python 3",
   "language": "python",
   "name": "python3"
  },
  "language_info": {
   "codemirror_mode": {
    "name": "ipython",
    "version": 3
   },
   "file_extension": ".py",
   "mimetype": "text/x-python",
   "name": "python",
   "nbconvert_exporter": "python",
   "pygments_lexer": "ipython3",
   "version": "3.7.6"
  }
 },
 "nbformat": 4,
 "nbformat_minor": 4
}
